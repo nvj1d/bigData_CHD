{
  "nbformat": 4,
  "nbformat_minor": 0,
  "metadata": {
    "colab": {
      "name": "framingham_preprocess.ipynb",
      "provenance": [],
      "collapsed_sections": [],
      "mount_file_id": "1ry4wL_WwMBlkgiMN4RV6laZ8ujuhP0Ls",
      "authorship_tag": "ABX9TyNyqLU8R6rrHnfzcPmmBqP7"
    },
    "kernelspec": {
      "name": "python3",
      "display_name": "Python 3"
    },
    "language_info": {
      "name": "python"
    }
  },
  "cells": [
    {
      "cell_type": "markdown",
      "source": [
        "![image.png](data:image/png;base64,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)"
      ],
      "metadata": {
        "id": "QcUFhOI92erw"
      }
    },
    {
      "cell_type": "code",
      "execution_count": null,
      "metadata": {
        "id": "RUJg3qMXLLdF"
      },
      "outputs": [],
      "source": [
        "## Install JDK\n",
        "## Install Spark\n",
        "## Set Environment variables\n",
        "## Create a Spark Session\n",
        "!apt-get install openjdk-8-jdk-headless -qq > /dev/null\n",
        "!wget -q https://archive.apache.org/dist/spark/spark-2.4.3/spark-2.4.3-bin-hadoop2.6.tgz\n",
        "!tar -xvf spark-2.4.3-bin-hadoop2.6.tgz\n",
        "!pip install -q findspark\n",
        "import os\n",
        "os.environ[\"JAVA_HOME\"] = \"/usr/lib/jvm/java-8-openjdk-amd64\"\n",
        "os.environ[\"SPARK_HOME\"] = \"/content/spark-2.4.3-bin-hadoop2.6\"\n",
        "import findspark\n",
        "findspark.init()\n",
        "from pyspark.sql import SparkSession\n",
        "spark = SparkSession.builder.master(\"local[*]\").getOrCreate()"
      ]
    },
    {
      "cell_type": "code",
      "source": [
        "## Read the CSV file into a DataFrame\n",
        "df0 = spark.read.csv(\"/content/drive/MyDrive/datasets/framingham00.csv\",header=True)\n",
        "df0.show()"
      ],
      "metadata": {
        "colab": {
          "base_uri": "https://localhost:8080/"
        },
        "id": "E9TbtPFrLPPK",
        "outputId": "ebabe84e-ed62-4404-a574-95b94c3c1a6d"
      },
      "execution_count": 2,
      "outputs": [
        {
          "output_type": "stream",
          "name": "stdout",
          "text": [
            "+------+---+---------+-------------+----------+------+---------------+------------+--------+-------+-----+-----+-----+---------+-------+----------+\n",
            "|   sex|age|education|currentSmoker|cigsPerDay|BPMeds|prevalentStroke|prevalentHyp|diabetes|totChol|sysBP|diaBP|  BMI|heartRate|glucose|TenYearCHD|\n",
            "+------+---+---------+-------------+----------+------+---------------+------------+--------+-------+-----+-----+-----+---------+-------+----------+\n",
            "|  male| 39|        4|            0|         0|     0|              0|           0|       0|    195|  106|   70|26.97|       80|     77|         N|\n",
            "|female| 46|        2|            0|         0|     0|              0|           0|       0|    250|  121|   81|28.73|       95|     76|         N|\n",
            "|  male| 48|        1|            1|        20|     0|              0|           0|       0|    245|127.5|   80|25.34|       75|     70|         N|\n",
            "|female| 61|        3|            1|        30|     0|              0|           1|       0|    225|  150|   95|28.58|       65|    103|         Y|\n",
            "|female| 46|        3|            1|        23|     0|              0|           0|       0|    285|  130|   84| 23.1|       85|     85|         N|\n",
            "|female| 43|        2|            0|         0|     0|              0|           1|       0|    228|  180|  110| 30.3|       77|     99|         N|\n",
            "|female| 63|        1|            0|         0|     0|              0|           0|       0|    205|  138|   71|33.11|       60|     85|         Y|\n",
            "|female| 45|        2|            1|        20|     0|              0|           0|       0|    313|  100|   71|21.68|       79|     78|         N|\n",
            "|  male| 52|        1|            0|         0|     0|              0|           1|       0|    260|141.5|   89|26.36|       76|     79|         N|\n",
            "|  male| 43|        1|            1|        30|     0|              0|           1|       0|    225|  162|  107|23.61|       93|     88|         N|\n",
            "|female| 50|        1|            0|         0|     0|              0|           0|       0|    254|  133|   76|22.91|       75|     76|         N|\n",
            "|female| 43|        2|            0|         0|     0|              0|           0|       0|    247|  131|   88|27.64|       72|     61|         N|\n",
            "|  male| 46|        1|            1|        15|     0|              0|           1|       0|    294|  142|   94|26.31|       98|     64|         N|\n",
            "|female| 41|        3|            0|         0|     1|              0|           1|       0|    332|  124|   88|31.31|       65|     84|         N|\n",
            "|female| 39|        2|            1|         9|     0|              0|           0|       0|    226|  114|   64|22.35|       85|     NA|         N|\n",
            "|female| 38|        2|            1|        20|     0|              0|           1|       0|    221|  140|   90|21.35|       95|     70|         Y|\n",
            "|  male| 48|        3|            1|        10|     0|              0|           1|       0|    232|  138|   90|22.37|       64|     72|         N|\n",
            "|female| 46|        2|            1|        20|     0|              0|           0|       0|    291|  112|   78|23.38|       80|     89|         Y|\n",
            "|female| 38|        2|            1|         5|     0|              0|           0|       0|    195|  122| 84.5|23.24|       75|     78|         N|\n",
            "|  male| 41|        2|            0|         0|     0|              0|           0|       0|    195|  139|   88|26.88|       85|     65|         N|\n",
            "+------+---+---------+-------------+----------+------+---------------+------------+--------+-------+-----+-----+-----+---------+-------+----------+\n",
            "only showing top 20 rows\n",
            "\n"
          ]
        }
      ]
    },
    {
      "cell_type": "code",
      "source": [
        "#we have a pyspark dataframe\n",
        "type(df0)"
      ],
      "metadata": {
        "colab": {
          "base_uri": "https://localhost:8080/"
        },
        "id": "1-Wzx0arXveB",
        "outputId": "6721b8a9-e183-4edb-e1b9-ff95dd20e70a"
      },
      "execution_count": 3,
      "outputs": [
        {
          "output_type": "execute_result",
          "data": {
            "text/plain": [
              "pyspark.sql.dataframe.DataFrame"
            ]
          },
          "metadata": {},
          "execution_count": 3
        }
      ]
    },
    {
      "cell_type": "code",
      "source": [
        "#the numbre of rows\n",
        "df0.count()"
      ],
      "metadata": {
        "colab": {
          "base_uri": "https://localhost:8080/"
        },
        "id": "X2-SV2xhjClq",
        "outputId": "a124759f-f674-49fe-a8c1-198d09b87d1d"
      },
      "execution_count": 4,
      "outputs": [
        {
          "output_type": "execute_result",
          "data": {
            "text/plain": [
              "4240"
            ]
          },
          "metadata": {},
          "execution_count": 4
        }
      ]
    },
    {
      "cell_type": "code",
      "source": [
        "#rename the sex column to male --> 0 or 1\n",
        "df1 = df0.withColumnRenamed(\"sex\",\"male\")"
      ],
      "metadata": {
        "id": "ufavdZ_KjGrM"
      },
      "execution_count": 5,
      "outputs": []
    },
    {
      "cell_type": "code",
      "source": [
        "from pyspark.sql.functions import when\n",
        "#change the column values\n",
        "# male --> 1 and female --> 0\n",
        "df2 = df1.withColumn(\"male\", when(df1.male == \"male\",\"1\")\n",
        "                                 .when(df1.male == \"female\",\"0\")\n",
        "                                 .otherwise(df1.male))\n",
        "df2.show()"
      ],
      "metadata": {
        "colab": {
          "base_uri": "https://localhost:8080/"
        },
        "id": "q1Wrmd-IjR0x",
        "outputId": "8bb12282-ba0e-47ac-e06f-75f57f723a7e"
      },
      "execution_count": 6,
      "outputs": [
        {
          "output_type": "stream",
          "name": "stdout",
          "text": [
            "+----+---+---------+-------------+----------+------+---------------+------------+--------+-------+-----+-----+-----+---------+-------+----------+\n",
            "|male|age|education|currentSmoker|cigsPerDay|BPMeds|prevalentStroke|prevalentHyp|diabetes|totChol|sysBP|diaBP|  BMI|heartRate|glucose|TenYearCHD|\n",
            "+----+---+---------+-------------+----------+------+---------------+------------+--------+-------+-----+-----+-----+---------+-------+----------+\n",
            "|   1| 39|        4|            0|         0|     0|              0|           0|       0|    195|  106|   70|26.97|       80|     77|         N|\n",
            "|   0| 46|        2|            0|         0|     0|              0|           0|       0|    250|  121|   81|28.73|       95|     76|         N|\n",
            "|   1| 48|        1|            1|        20|     0|              0|           0|       0|    245|127.5|   80|25.34|       75|     70|         N|\n",
            "|   0| 61|        3|            1|        30|     0|              0|           1|       0|    225|  150|   95|28.58|       65|    103|         Y|\n",
            "|   0| 46|        3|            1|        23|     0|              0|           0|       0|    285|  130|   84| 23.1|       85|     85|         N|\n",
            "|   0| 43|        2|            0|         0|     0|              0|           1|       0|    228|  180|  110| 30.3|       77|     99|         N|\n",
            "|   0| 63|        1|            0|         0|     0|              0|           0|       0|    205|  138|   71|33.11|       60|     85|         Y|\n",
            "|   0| 45|        2|            1|        20|     0|              0|           0|       0|    313|  100|   71|21.68|       79|     78|         N|\n",
            "|   1| 52|        1|            0|         0|     0|              0|           1|       0|    260|141.5|   89|26.36|       76|     79|         N|\n",
            "|   1| 43|        1|            1|        30|     0|              0|           1|       0|    225|  162|  107|23.61|       93|     88|         N|\n",
            "|   0| 50|        1|            0|         0|     0|              0|           0|       0|    254|  133|   76|22.91|       75|     76|         N|\n",
            "|   0| 43|        2|            0|         0|     0|              0|           0|       0|    247|  131|   88|27.64|       72|     61|         N|\n",
            "|   1| 46|        1|            1|        15|     0|              0|           1|       0|    294|  142|   94|26.31|       98|     64|         N|\n",
            "|   0| 41|        3|            0|         0|     1|              0|           1|       0|    332|  124|   88|31.31|       65|     84|         N|\n",
            "|   0| 39|        2|            1|         9|     0|              0|           0|       0|    226|  114|   64|22.35|       85|     NA|         N|\n",
            "|   0| 38|        2|            1|        20|     0|              0|           1|       0|    221|  140|   90|21.35|       95|     70|         Y|\n",
            "|   1| 48|        3|            1|        10|     0|              0|           1|       0|    232|  138|   90|22.37|       64|     72|         N|\n",
            "|   0| 46|        2|            1|        20|     0|              0|           0|       0|    291|  112|   78|23.38|       80|     89|         Y|\n",
            "|   0| 38|        2|            1|         5|     0|              0|           0|       0|    195|  122| 84.5|23.24|       75|     78|         N|\n",
            "|   1| 41|        2|            0|         0|     0|              0|           0|       0|    195|  139|   88|26.88|       85|     65|         N|\n",
            "+----+---+---------+-------------+----------+------+---------------+------------+--------+-------+-----+-----+-----+---------+-------+----------+\n",
            "only showing top 20 rows\n",
            "\n"
          ]
        }
      ]
    },
    {
      "cell_type": "code",
      "source": [
        "#change the column values\n",
        "# TenYearCHD --> 1 and !TenYearCHD --> 0\n",
        "df3 = df2.withColumn(\"TenYearCHD\", when(df2.TenYearCHD == \"Y\",\"1\")\n",
        "                                 .when(df2.TenYearCHD == \"N\",\"0\")\n",
        "                                 .otherwise(df2.TenYearCHD))\n",
        "df3.show()"
      ],
      "metadata": {
        "colab": {
          "base_uri": "https://localhost:8080/"
        },
        "id": "faEYwQCGkCG0",
        "outputId": "09d26295-7621-4bc5-8155-1515f4110a4b"
      },
      "execution_count": 7,
      "outputs": [
        {
          "output_type": "stream",
          "name": "stdout",
          "text": [
            "+----+---+---------+-------------+----------+------+---------------+------------+--------+-------+-----+-----+-----+---------+-------+----------+\n",
            "|male|age|education|currentSmoker|cigsPerDay|BPMeds|prevalentStroke|prevalentHyp|diabetes|totChol|sysBP|diaBP|  BMI|heartRate|glucose|TenYearCHD|\n",
            "+----+---+---------+-------------+----------+------+---------------+------------+--------+-------+-----+-----+-----+---------+-------+----------+\n",
            "|   1| 39|        4|            0|         0|     0|              0|           0|       0|    195|  106|   70|26.97|       80|     77|         0|\n",
            "|   0| 46|        2|            0|         0|     0|              0|           0|       0|    250|  121|   81|28.73|       95|     76|         0|\n",
            "|   1| 48|        1|            1|        20|     0|              0|           0|       0|    245|127.5|   80|25.34|       75|     70|         0|\n",
            "|   0| 61|        3|            1|        30|     0|              0|           1|       0|    225|  150|   95|28.58|       65|    103|         1|\n",
            "|   0| 46|        3|            1|        23|     0|              0|           0|       0|    285|  130|   84| 23.1|       85|     85|         0|\n",
            "|   0| 43|        2|            0|         0|     0|              0|           1|       0|    228|  180|  110| 30.3|       77|     99|         0|\n",
            "|   0| 63|        1|            0|         0|     0|              0|           0|       0|    205|  138|   71|33.11|       60|     85|         1|\n",
            "|   0| 45|        2|            1|        20|     0|              0|           0|       0|    313|  100|   71|21.68|       79|     78|         0|\n",
            "|   1| 52|        1|            0|         0|     0|              0|           1|       0|    260|141.5|   89|26.36|       76|     79|         0|\n",
            "|   1| 43|        1|            1|        30|     0|              0|           1|       0|    225|  162|  107|23.61|       93|     88|         0|\n",
            "|   0| 50|        1|            0|         0|     0|              0|           0|       0|    254|  133|   76|22.91|       75|     76|         0|\n",
            "|   0| 43|        2|            0|         0|     0|              0|           0|       0|    247|  131|   88|27.64|       72|     61|         0|\n",
            "|   1| 46|        1|            1|        15|     0|              0|           1|       0|    294|  142|   94|26.31|       98|     64|         0|\n",
            "|   0| 41|        3|            0|         0|     1|              0|           1|       0|    332|  124|   88|31.31|       65|     84|         0|\n",
            "|   0| 39|        2|            1|         9|     0|              0|           0|       0|    226|  114|   64|22.35|       85|     NA|         0|\n",
            "|   0| 38|        2|            1|        20|     0|              0|           1|       0|    221|  140|   90|21.35|       95|     70|         1|\n",
            "|   1| 48|        3|            1|        10|     0|              0|           1|       0|    232|  138|   90|22.37|       64|     72|         0|\n",
            "|   0| 46|        2|            1|        20|     0|              0|           0|       0|    291|  112|   78|23.38|       80|     89|         1|\n",
            "|   0| 38|        2|            1|         5|     0|              0|           0|       0|    195|  122| 84.5|23.24|       75|     78|         0|\n",
            "|   1| 41|        2|            0|         0|     0|              0|           0|       0|    195|  139|   88|26.88|       85|     65|         0|\n",
            "+----+---+---------+-------------+----------+------+---------------+------------+--------+-------+-----+-----+-----+---------+-------+----------+\n",
            "only showing top 20 rows\n",
            "\n"
          ]
        }
      ]
    },
    {
      "cell_type": "code",
      "source": [
        "#verify the datatype of our dataset\n",
        "df3.printSchema()"
      ],
      "metadata": {
        "colab": {
          "base_uri": "https://localhost:8080/"
        },
        "id": "gJ4kvk7BlCPS",
        "outputId": "3e3c1dc9-ce35-4edb-ad52-9b1e666186e6"
      },
      "execution_count": 8,
      "outputs": [
        {
          "output_type": "stream",
          "name": "stdout",
          "text": [
            "root\n",
            " |-- male: string (nullable = true)\n",
            " |-- age: string (nullable = true)\n",
            " |-- education: string (nullable = true)\n",
            " |-- currentSmoker: string (nullable = true)\n",
            " |-- cigsPerDay: string (nullable = true)\n",
            " |-- BPMeds: string (nullable = true)\n",
            " |-- prevalentStroke: string (nullable = true)\n",
            " |-- prevalentHyp: string (nullable = true)\n",
            " |-- diabetes: string (nullable = true)\n",
            " |-- totChol: string (nullable = true)\n",
            " |-- sysBP: string (nullable = true)\n",
            " |-- diaBP: string (nullable = true)\n",
            " |-- BMI: string (nullable = true)\n",
            " |-- heartRate: string (nullable = true)\n",
            " |-- glucose: string (nullable = true)\n",
            " |-- TenYearCHD: string (nullable = true)\n",
            "\n"
          ]
        }
      ]
    },
    {
      "cell_type": "code",
      "source": [
        "from pyspark.sql.types import *\n",
        "from pyspark.sql.functions import col\n",
        "\n",
        "#change the columns datatypes from string to int/float\n",
        "df4 = df3.withColumn(\"male\",col(\"male\").cast(IntegerType())) \\\n",
        "    .withColumn(\"age\",col(\"age\").cast(IntegerType())) \\\n",
        "    .withColumn(\"education\",col(\"education\").cast(FloatType())) \\\n",
        "    .withColumn(\"currentSmoker\",col(\"currentSmoker\").cast(IntegerType())) \\\n",
        "    .withColumn(\"cigsPerDay\",col(\"cigsPerDay\").cast(FloatType())) \\\n",
        "    .withColumn(\"BPMeds\",col(\"BPMeds\").cast(FloatType())) \\\n",
        "    .withColumn(\"prevalentStroke\",col(\"prevalentStroke\").cast(IntegerType())) \\\n",
        "    .withColumn(\"prevalentHyp\",col(\"prevalentHyp\").cast(IntegerType())) \\\n",
        "    .withColumn(\"diabetes\",col(\"diabetes\").cast(IntegerType())) \\\n",
        "    .withColumn(\"totChol\",col(\"totChol\").cast(FloatType())) \\\n",
        "    .withColumn(\"sysBP\",col(\"sysBP\").cast(FloatType())) \\\n",
        "    .withColumn(\"diaBP\",col(\"diaBP\").cast(FloatType())) \\\n",
        "    .withColumn(\"BMI\",col(\"BMI\").cast(FloatType())) \\\n",
        "    .withColumn(\"heartRate\",col(\"heartRate\").cast(FloatType())) \\\n",
        "    .withColumn(\"glucose\",col(\"glucose\").cast(FloatType())) \\\n",
        "    .withColumn(\"TenYearCHD\",col(\"TenYearCHD\").cast(IntegerType()))\n",
        "df4.printSchema()"
      ],
      "metadata": {
        "colab": {
          "base_uri": "https://localhost:8080/"
        },
        "id": "a0OZQZOzlM9h",
        "outputId": "c02ea5a3-ef6c-404f-a26d-d33367a1a9d9"
      },
      "execution_count": 9,
      "outputs": [
        {
          "output_type": "stream",
          "name": "stdout",
          "text": [
            "root\n",
            " |-- male: integer (nullable = true)\n",
            " |-- age: integer (nullable = true)\n",
            " |-- education: float (nullable = true)\n",
            " |-- currentSmoker: integer (nullable = true)\n",
            " |-- cigsPerDay: float (nullable = true)\n",
            " |-- BPMeds: float (nullable = true)\n",
            " |-- prevalentStroke: integer (nullable = true)\n",
            " |-- prevalentHyp: integer (nullable = true)\n",
            " |-- diabetes: integer (nullable = true)\n",
            " |-- totChol: float (nullable = true)\n",
            " |-- sysBP: float (nullable = true)\n",
            " |-- diaBP: float (nullable = true)\n",
            " |-- BMI: float (nullable = true)\n",
            " |-- heartRate: float (nullable = true)\n",
            " |-- glucose: float (nullable = true)\n",
            " |-- TenYearCHD: integer (nullable = true)\n",
            "\n"
          ]
        }
      ]
    },
    {
      "cell_type": "code",
      "source": [
        "from pyspark.sql.functions import col,isnan, when, count\n",
        "#check for null values\n",
        "df4.select([count(when(isnan(c) | col(c).isNull(), c)).alias(c) for c in df4.columns]\n",
        "   ).show()"
      ],
      "metadata": {
        "colab": {
          "base_uri": "https://localhost:8080/"
        },
        "id": "8DvjnaUvoPoa",
        "outputId": "36bd45c6-a04c-4150-e1c8-c499ae62e362"
      },
      "execution_count": 10,
      "outputs": [
        {
          "output_type": "stream",
          "name": "stdout",
          "text": [
            "+----+---+---------+-------------+----------+------+---------------+------------+--------+-------+-----+-----+---+---------+-------+----------+\n",
            "|male|age|education|currentSmoker|cigsPerDay|BPMeds|prevalentStroke|prevalentHyp|diabetes|totChol|sysBP|diaBP|BMI|heartRate|glucose|TenYearCHD|\n",
            "+----+---+---------+-------------+----------+------+---------------+------------+--------+-------+-----+-----+---+---------+-------+----------+\n",
            "|   0|  0|      105|            0|        29|    53|              0|           0|       0|     50|    0|    0| 19|        1|    388|         0|\n",
            "+----+---+---------+-------------+----------+------+---------------+------------+--------+-------+-----+-----+---+---------+-------+----------+\n",
            "\n"
          ]
        }
      ]
    },
    {
      "cell_type": "code",
      "source": [
        "# get education median value\n",
        "import pyspark.sql.functions as F\n",
        "med = df4.approxQuantile('education',[0.5],0.1)[0]\n",
        "print(med)"
      ],
      "metadata": {
        "colab": {
          "base_uri": "https://localhost:8080/"
        },
        "id": "ymIMHC3ys2XO",
        "outputId": "bff695ce-ed98-4830-84ba-30a4777c0523"
      },
      "execution_count": 11,
      "outputs": [
        {
          "output_type": "stream",
          "name": "stdout",
          "text": [
            "1.0\n"
          ]
        }
      ]
    },
    {
      "cell_type": "code",
      "source": [
        "# Replace missing education with median value\n",
        "df5 = df4.na.fill(med,[\"education\"])\n",
        "df5.show()"
      ],
      "metadata": {
        "id": "gSmntpBANOKQ",
        "colab": {
          "base_uri": "https://localhost:8080/"
        },
        "outputId": "19dc341c-913f-4aee-d7e4-c47b0496d03f"
      },
      "execution_count": 12,
      "outputs": [
        {
          "output_type": "stream",
          "name": "stdout",
          "text": [
            "+----+---+---------+-------------+----------+------+---------------+------------+--------+-------+-----+-----+-----+---------+-------+----------+\n",
            "|male|age|education|currentSmoker|cigsPerDay|BPMeds|prevalentStroke|prevalentHyp|diabetes|totChol|sysBP|diaBP|  BMI|heartRate|glucose|TenYearCHD|\n",
            "+----+---+---------+-------------+----------+------+---------------+------------+--------+-------+-----+-----+-----+---------+-------+----------+\n",
            "|   1| 39|      4.0|            0|       0.0|   0.0|              0|           0|       0|  195.0|106.0| 70.0|26.97|     80.0|   77.0|         0|\n",
            "|   0| 46|      2.0|            0|       0.0|   0.0|              0|           0|       0|  250.0|121.0| 81.0|28.73|     95.0|   76.0|         0|\n",
            "|   1| 48|      1.0|            1|      20.0|   0.0|              0|           0|       0|  245.0|127.5| 80.0|25.34|     75.0|   70.0|         0|\n",
            "|   0| 61|      3.0|            1|      30.0|   0.0|              0|           1|       0|  225.0|150.0| 95.0|28.58|     65.0|  103.0|         1|\n",
            "|   0| 46|      3.0|            1|      23.0|   0.0|              0|           0|       0|  285.0|130.0| 84.0| 23.1|     85.0|   85.0|         0|\n",
            "|   0| 43|      2.0|            0|       0.0|   0.0|              0|           1|       0|  228.0|180.0|110.0| 30.3|     77.0|   99.0|         0|\n",
            "|   0| 63|      1.0|            0|       0.0|   0.0|              0|           0|       0|  205.0|138.0| 71.0|33.11|     60.0|   85.0|         1|\n",
            "|   0| 45|      2.0|            1|      20.0|   0.0|              0|           0|       0|  313.0|100.0| 71.0|21.68|     79.0|   78.0|         0|\n",
            "|   1| 52|      1.0|            0|       0.0|   0.0|              0|           1|       0|  260.0|141.5| 89.0|26.36|     76.0|   79.0|         0|\n",
            "|   1| 43|      1.0|            1|      30.0|   0.0|              0|           1|       0|  225.0|162.0|107.0|23.61|     93.0|   88.0|         0|\n",
            "|   0| 50|      1.0|            0|       0.0|   0.0|              0|           0|       0|  254.0|133.0| 76.0|22.91|     75.0|   76.0|         0|\n",
            "|   0| 43|      2.0|            0|       0.0|   0.0|              0|           0|       0|  247.0|131.0| 88.0|27.64|     72.0|   61.0|         0|\n",
            "|   1| 46|      1.0|            1|      15.0|   0.0|              0|           1|       0|  294.0|142.0| 94.0|26.31|     98.0|   64.0|         0|\n",
            "|   0| 41|      3.0|            0|       0.0|   1.0|              0|           1|       0|  332.0|124.0| 88.0|31.31|     65.0|   84.0|         0|\n",
            "|   0| 39|      2.0|            1|       9.0|   0.0|              0|           0|       0|  226.0|114.0| 64.0|22.35|     85.0|   null|         0|\n",
            "|   0| 38|      2.0|            1|      20.0|   0.0|              0|           1|       0|  221.0|140.0| 90.0|21.35|     95.0|   70.0|         1|\n",
            "|   1| 48|      3.0|            1|      10.0|   0.0|              0|           1|       0|  232.0|138.0| 90.0|22.37|     64.0|   72.0|         0|\n",
            "|   0| 46|      2.0|            1|      20.0|   0.0|              0|           0|       0|  291.0|112.0| 78.0|23.38|     80.0|   89.0|         1|\n",
            "|   0| 38|      2.0|            1|       5.0|   0.0|              0|           0|       0|  195.0|122.0| 84.5|23.24|     75.0|   78.0|         0|\n",
            "|   1| 41|      2.0|            0|       0.0|   0.0|              0|           0|       0|  195.0|139.0| 88.0|26.88|     85.0|   65.0|         0|\n",
            "+----+---+---------+-------------+----------+------+---------------+------------+--------+-------+-----+-----+-----+---------+-------+----------+\n",
            "only showing top 20 rows\n",
            "\n"
          ]
        }
      ]
    },
    {
      "cell_type": "code",
      "source": [
        "#check if education still have null values\n",
        "df5.select([count(when(isnan(c) | col(c).isNull(), c)).alias(c) for c in df5.columns]\n",
        "   ).show()"
      ],
      "metadata": {
        "colab": {
          "base_uri": "https://localhost:8080/"
        },
        "id": "85qnclCjqmb4",
        "outputId": "aac343e9-4740-4a65-e00f-0f34d39dceb7"
      },
      "execution_count": 13,
      "outputs": [
        {
          "output_type": "stream",
          "name": "stdout",
          "text": [
            "+----+---+---------+-------------+----------+------+---------------+------------+--------+-------+-----+-----+---+---------+-------+----------+\n",
            "|male|age|education|currentSmoker|cigsPerDay|BPMeds|prevalentStroke|prevalentHyp|diabetes|totChol|sysBP|diaBP|BMI|heartRate|glucose|TenYearCHD|\n",
            "+----+---+---------+-------------+----------+------+---------------+------------+--------+-------+-----+-----+---+---------+-------+----------+\n",
            "|   0|  0|        0|            0|        29|    53|              0|           0|       0|     50|    0|    0| 19|        1|    388|         0|\n",
            "+----+---+---------+-------------+----------+------+---------------+------------+--------+-------+-----+-----+---+---------+-------+----------+\n",
            "\n"
          ]
        }
      ]
    },
    {
      "cell_type": "code",
      "source": [
        "#delete all rows with null values\n",
        "df6 = df5.na.drop()"
      ],
      "metadata": {
        "id": "SR33e2QOMB1S"
      },
      "execution_count": 14,
      "outputs": []
    },
    {
      "cell_type": "code",
      "source": [
        "#verify if we still have null values or not!\n",
        "df6.select([count(when(isnan(c) | col(c).isNull(), c)).alias(c) for c in df5.columns]\n",
        "   ).show()"
      ],
      "metadata": {
        "colab": {
          "base_uri": "https://localhost:8080/"
        },
        "id": "pPHG051hrIq_",
        "outputId": "8b7a3088-838c-40be-d556-0dfe623caf5c"
      },
      "execution_count": 15,
      "outputs": [
        {
          "output_type": "stream",
          "name": "stdout",
          "text": [
            "+----+---+---------+-------------+----------+------+---------------+------------+--------+-------+-----+-----+---+---------+-------+----------+\n",
            "|male|age|education|currentSmoker|cigsPerDay|BPMeds|prevalentStroke|prevalentHyp|diabetes|totChol|sysBP|diaBP|BMI|heartRate|glucose|TenYearCHD|\n",
            "+----+---+---------+-------------+----------+------+---------------+------------+--------+-------+-----+-----+---+---------+-------+----------+\n",
            "|   0|  0|        0|            0|         0|     0|              0|           0|       0|      0|    0|    0|  0|        0|      0|         0|\n",
            "+----+---+---------+-------------+----------+------+---------------+------------+--------+-------+-----+-----+---+---------+-------+----------+\n",
            "\n"
          ]
        }
      ]
    },
    {
      "cell_type": "code",
      "source": [
        "#the new size of our dataset\n",
        "df6.count()"
      ],
      "metadata": {
        "colab": {
          "base_uri": "https://localhost:8080/"
        },
        "id": "A17kYGgNrZqH",
        "outputId": "cd19fcc4-23af-425c-a90f-10281dd9f8f4"
      },
      "execution_count": 16,
      "outputs": [
        {
          "output_type": "execute_result",
          "data": {
            "text/plain": [
              "3751"
            ]
          },
          "metadata": {},
          "execution_count": 16
        }
      ]
    },
    {
      "cell_type": "code",
      "source": [
        "## Write the transformed dataframe to a new csv file\n",
        "#df6.write.format(\"csv\").save(\"/content/drive/MyDrive/datasets/framingham2\",header = 'true')"
      ],
      "metadata": {
        "id": "n2_2ZxhdNUvi"
      },
      "execution_count": 18,
      "outputs": []
    },
    {
      "cell_type": "code",
      "source": [
        "#!ls"
      ],
      "metadata": {
        "id": "r4s62wFnNZ1Y"
      },
      "execution_count": 19,
      "outputs": []
    },
    {
      "cell_type": "code",
      "source": [
        "#!cat bank_prospects_transformed/part-00000-588f51a7-d80b-4402-aed5-717e24ffcc0c-c000.csv"
      ],
      "metadata": {
        "id": "6qh_V20hNdtq"
      },
      "execution_count": 20,
      "outputs": []
    }
  ]
}